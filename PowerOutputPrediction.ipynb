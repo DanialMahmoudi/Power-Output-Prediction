{
  "nbformat": 4,
  "nbformat_minor": 0,
  "metadata": {
    "colab": {
      "provenance": []
    },
    "kernelspec": {
      "name": "python3",
      "display_name": "Python 3"
    },
    "language_info": {
      "name": "python"
    }
  },
  "cells": [
    {
      "cell_type": "markdown",
      "source": [
        "# Artificial Neural Network (ANN) For Regression"
      ],
      "metadata": {
        "id": "Nk3rB-lUro6F"
      }
    },
    {
      "cell_type": "markdown",
      "source": [
        "## Importing The Libraries"
      ],
      "metadata": {
        "id": "Vy-TtFxTrtDQ"
      }
    },
    {
      "cell_type": "code",
      "source": [
        "import pandas as pd\n",
        "import numpy as np\n",
        "import tensorflow as tf"
      ],
      "metadata": {
        "id": "zx2oqUvorx1a"
      },
      "execution_count": null,
      "outputs": []
    },
    {
      "cell_type": "markdown",
      "source": [
        "## Part 1 - Data Preprocessing"
      ],
      "metadata": {
        "id": "GFaeign1r8wp"
      }
    },
    {
      "cell_type": "markdown",
      "source": [
        "### Importing The Dataset"
      ],
      "metadata": {
        "id": "qEe5Wnz3sEEU"
      }
    },
    {
      "cell_type": "markdown",
      "source": [
        "**⚛** : We use **\"pd.read_excel()\"** function to import an excel dataset."
      ],
      "metadata": {
        "id": "TD-MQNeDvEGa"
      }
    },
    {
      "cell_type": "code",
      "source": [
        "dataset = pd.read_excel('Folds5x2_pp.xlsx')\n",
        "X = dataset.iloc[:, :-1].values\n",
        "y = dataset.iloc[:, -1].values"
      ],
      "metadata": {
        "id": "7qatQbqhsIcV"
      },
      "execution_count": null,
      "outputs": []
    },
    {
      "cell_type": "markdown",
      "source": [
        "### Splitting The Dataset Into Training set & Test set"
      ],
      "metadata": {
        "id": "59-bM4oDvWVC"
      }
    },
    {
      "cell_type": "code",
      "source": [
        "from sklearn.model_selection import train_test_split\n",
        "X_train, X_test, y_train, y_test = train_test_split(X, y, test_size=0.2, random_state=0)"
      ],
      "metadata": {
        "id": "5xsgPZQjvdgl"
      },
      "execution_count": null,
      "outputs": []
    },
    {
      "cell_type": "markdown",
      "source": [
        "## Part 2 - Building The ANN"
      ],
      "metadata": {
        "id": "g8XX743xv5gQ"
      }
    },
    {
      "cell_type": "markdown",
      "source": [
        "### Initializing The ANN"
      ],
      "metadata": {
        "id": "2e7vTsIRv87-"
      }
    },
    {
      "cell_type": "code",
      "source": [
        "ann = tf.keras.models.Sequential()"
      ],
      "metadata": {
        "id": "r3v2ksSNv_2F"
      },
      "execution_count": null,
      "outputs": []
    },
    {
      "cell_type": "markdown",
      "source": [
        "### Adding The Input Layer & The First Hidden Layer"
      ],
      "metadata": {
        "id": "XJeQfiAawZt9"
      }
    },
    {
      "cell_type": "code",
      "source": [
        "ann.add(tf.keras.layers.Dense(units=6, activation='relu'))"
      ],
      "metadata": {
        "id": "UKFHE84-wc6-"
      },
      "execution_count": null,
      "outputs": []
    },
    {
      "cell_type": "markdown",
      "source": [
        "### Adding The Second Hidden Layer"
      ],
      "metadata": {
        "id": "IXYvU5ddyeRI"
      }
    },
    {
      "cell_type": "code",
      "source": [
        "ann.add(tf.keras.layers.Dense(units=6, activation='relu'))"
      ],
      "metadata": {
        "id": "anRI8qPEyhkD"
      },
      "execution_count": null,
      "outputs": []
    },
    {
      "cell_type": "markdown",
      "source": [
        "### Adding The Output Layer"
      ],
      "metadata": {
        "id": "Pf6_PegqyjfG"
      }
    },
    {
      "cell_type": "markdown",
      "source": [
        "**⚛** : The Following activation functions can be used under specific circumstances.\n",
        "\n",
        "\n",
        "\n",
        "1.   relu\n",
        "2.   sigmoid\n",
        "3.   softmax\n",
        "4.   linear\n",
        "5.   Default value (None)\n",
        "\n",
        "**relu** : It is a **\"Rectifier\"** function & it's often used in **Hidden Layers** to remove linearity.\n",
        "\n",
        "**sigmoid** : This function is often used in **Output Layer** in **Binary Classification** problems.\n",
        "\n",
        "**softmax** : This function is often used in **Output Layer** in **Categorical Classification** problems.\n",
        "\n",
        "**linear** : This function is often used in **Output Layer** in **Regression** problems.\n",
        "\n",
        "**Default value (None)** : This function is often used in **Output Layer** in **Regression** problems."
      ],
      "metadata": {
        "id": "49i6fYXMzpXF"
      }
    },
    {
      "cell_type": "code",
      "source": [
        "ann.add(tf.keras.layers.Dense(units=1))"
      ],
      "metadata": {
        "id": "OGdpPT3dy2YA"
      },
      "execution_count": null,
      "outputs": []
    },
    {
      "cell_type": "markdown",
      "source": [
        "## Part 3 - Training The ANN"
      ],
      "metadata": {
        "id": "b9ECPH5606bd"
      }
    },
    {
      "cell_type": "markdown",
      "source": [
        "### Compiling The ANN"
      ],
      "metadata": {
        "id": "LTQbjpC61On9"
      }
    },
    {
      "cell_type": "code",
      "source": [
        "ann.compile(optimizer='adam', loss='mean_squared_error', metrics=['mse', 'mae', 'mape'])"
      ],
      "metadata": {
        "id": "Odgo1mzS1R0h"
      },
      "execution_count": null,
      "outputs": []
    },
    {
      "cell_type": "markdown",
      "source": [
        "### Training The ANN Model On The Training Set"
      ],
      "metadata": {
        "id": "PWfw3O472PtZ"
      }
    },
    {
      "cell_type": "code",
      "source": [
        "ann.fit(X_train, y_train, epochs=70)"
      ],
      "metadata": {
        "colab": {
          "base_uri": "https://localhost:8080/"
        },
        "id": "_Lrf0W-Q2Vva",
        "outputId": "cfcc1654-dbdd-4a3c-e0da-43450fe823af"
      },
      "execution_count": null,
      "outputs": [
        {
          "output_type": "stream",
          "name": "stdout",
          "text": [
            "Epoch 1/70\n",
            "240/240 [==============================] - 2s 3ms/step - loss: 326041.9688 - mse: 326041.9688 - mae: 547.8819 - mape: 120.6519\n",
            "Epoch 2/70\n",
            "240/240 [==============================] - 1s 3ms/step - loss: 34958.0742 - mse: 34958.0742 - mae: 167.1708 - mape: 36.7198\n",
            "Epoch 3/70\n",
            "240/240 [==============================] - 1s 3ms/step - loss: 587.6155 - mse: 587.6155 - mae: 19.2097 - mape: 4.1605\n",
            "Epoch 4/70\n",
            "240/240 [==============================] - 1s 3ms/step - loss: 255.8197 - mse: 255.8197 - mae: 13.8106 - mape: 3.0306\n",
            "Epoch 5/70\n",
            "240/240 [==============================] - 1s 4ms/step - loss: 252.3568 - mse: 252.3568 - mae: 13.7205 - mape: 3.0115\n",
            "Epoch 6/70\n",
            "240/240 [==============================] - 1s 3ms/step - loss: 248.3196 - mse: 248.3196 - mae: 13.6014 - mape: 2.9852\n",
            "Epoch 7/70\n",
            "240/240 [==============================] - 1s 3ms/step - loss: 243.5763 - mse: 243.5763 - mae: 13.4619 - mape: 2.9543\n",
            "Epoch 8/70\n",
            "240/240 [==============================] - 1s 3ms/step - loss: 238.3131 - mse: 238.3131 - mae: 13.3218 - mape: 2.9246\n",
            "Epoch 9/70\n",
            "240/240 [==============================] - 1s 4ms/step - loss: 232.4254 - mse: 232.4254 - mae: 13.1341 - mape: 2.8820\n",
            "Epoch 10/70\n",
            "240/240 [==============================] - 1s 3ms/step - loss: 225.6787 - mse: 225.6787 - mae: 12.9398 - mape: 2.8400\n",
            "Epoch 11/70\n",
            "240/240 [==============================] - 1s 3ms/step - loss: 218.2780 - mse: 218.2780 - mae: 12.7094 - mape: 2.7891\n",
            "Epoch 12/70\n",
            "240/240 [==============================] - 1s 3ms/step - loss: 210.1978 - mse: 210.1978 - mae: 12.4635 - mape: 2.7353\n",
            "Epoch 13/70\n",
            "240/240 [==============================] - 1s 3ms/step - loss: 201.2793 - mse: 201.2793 - mae: 12.1759 - mape: 2.6718\n",
            "Epoch 14/70\n",
            "240/240 [==============================] - 0s 2ms/step - loss: 191.7108 - mse: 191.7108 - mae: 11.8675 - mape: 2.6039\n",
            "Epoch 15/70\n",
            "240/240 [==============================] - 0s 2ms/step - loss: 181.6025 - mse: 181.6025 - mae: 11.5393 - mape: 2.5327\n",
            "Epoch 16/70\n",
            "240/240 [==============================] - 0s 2ms/step - loss: 170.7167 - mse: 170.7167 - mae: 11.1515 - mape: 2.4464\n",
            "Epoch 17/70\n",
            "240/240 [==============================] - 0s 1ms/step - loss: 159.2513 - mse: 159.2513 - mae: 10.7413 - mape: 2.3561\n",
            "Epoch 18/70\n",
            "240/240 [==============================] - 0s 2ms/step - loss: 147.4158 - mse: 147.4158 - mae: 10.3089 - mape: 2.2619\n",
            "Epoch 19/70\n",
            "240/240 [==============================] - 0s 1ms/step - loss: 134.9360 - mse: 134.9360 - mae: 9.8168 - mape: 2.1531\n",
            "Epoch 20/70\n",
            "240/240 [==============================] - 0s 2ms/step - loss: 122.4554 - mse: 122.4554 - mae: 9.3183 - mape: 2.0440\n",
            "Epoch 21/70\n",
            "240/240 [==============================] - 0s 2ms/step - loss: 109.9480 - mse: 109.9480 - mae: 8.7801 - mape: 1.9250\n",
            "Epoch 22/70\n",
            "240/240 [==============================] - 0s 2ms/step - loss: 97.6181 - mse: 97.6181 - mae: 8.2250 - mape: 1.8030\n",
            "Epoch 23/70\n",
            "240/240 [==============================] - 0s 2ms/step - loss: 85.7954 - mse: 85.7954 - mae: 7.6532 - mape: 1.6772\n",
            "Epoch 24/70\n",
            "240/240 [==============================] - 0s 2ms/step - loss: 74.7732 - mse: 74.7732 - mae: 7.0966 - mape: 1.5547\n",
            "Epoch 25/70\n",
            "240/240 [==============================] - 0s 2ms/step - loss: 64.4363 - mse: 64.4363 - mae: 6.5407 - mape: 1.4325\n",
            "Epoch 26/70\n",
            "240/240 [==============================] - 0s 1ms/step - loss: 55.7065 - mse: 55.7065 - mae: 6.0571 - mape: 1.3265\n",
            "Epoch 27/70\n",
            "240/240 [==============================] - 0s 2ms/step - loss: 48.0782 - mse: 48.0782 - mae: 5.5855 - mape: 1.2223\n",
            "Epoch 28/70\n",
            "240/240 [==============================] - 0s 1ms/step - loss: 41.9338 - mse: 41.9338 - mae: 5.2080 - mape: 1.1401\n",
            "Epoch 29/70\n",
            "240/240 [==============================] - 0s 2ms/step - loss: 37.4204 - mse: 37.4204 - mae: 4.9054 - mape: 1.0737\n",
            "Epoch 30/70\n",
            "240/240 [==============================] - 0s 2ms/step - loss: 34.0331 - mse: 34.0331 - mae: 4.6702 - mape: 1.0226\n",
            "Epoch 31/70\n",
            "240/240 [==============================] - 0s 2ms/step - loss: 31.7055 - mse: 31.7055 - mae: 4.5065 - mape: 0.9872\n",
            "Epoch 32/70\n",
            "240/240 [==============================] - 0s 1ms/step - loss: 30.3265 - mse: 30.3265 - mae: 4.4031 - mape: 0.9650\n",
            "Epoch 33/70\n",
            "240/240 [==============================] - 0s 2ms/step - loss: 29.7973 - mse: 29.7973 - mae: 4.3595 - mape: 0.9559\n",
            "Epoch 34/70\n",
            "240/240 [==============================] - 0s 1ms/step - loss: 28.9538 - mse: 28.9538 - mae: 4.2931 - mape: 0.9418\n",
            "Epoch 35/70\n",
            "240/240 [==============================] - 0s 2ms/step - loss: 28.7640 - mse: 28.7640 - mae: 4.2742 - mape: 0.9378\n",
            "Epoch 36/70\n",
            "240/240 [==============================] - 0s 2ms/step - loss: 28.5625 - mse: 28.5625 - mae: 4.2538 - mape: 0.9336\n",
            "Epoch 37/70\n",
            "240/240 [==============================] - 0s 2ms/step - loss: 28.1876 - mse: 28.1876 - mae: 4.2196 - mape: 0.9262\n",
            "Epoch 38/70\n",
            "240/240 [==============================] - 0s 2ms/step - loss: 28.0569 - mse: 28.0569 - mae: 4.2197 - mape: 0.9263\n",
            "Epoch 39/70\n",
            "240/240 [==============================] - 0s 2ms/step - loss: 27.9006 - mse: 27.9006 - mae: 4.1896 - mape: 0.9197\n",
            "Epoch 40/70\n",
            "240/240 [==============================] - 0s 2ms/step - loss: 28.2556 - mse: 28.2556 - mae: 4.2234 - mape: 0.9272\n",
            "Epoch 41/70\n",
            "240/240 [==============================] - 0s 2ms/step - loss: 27.5830 - mse: 27.5830 - mae: 4.1735 - mape: 0.9161\n",
            "Epoch 42/70\n",
            "240/240 [==============================] - 0s 2ms/step - loss: 27.9318 - mse: 27.9318 - mae: 4.2070 - mape: 0.9237\n",
            "Epoch 43/70\n",
            "240/240 [==============================] - 0s 2ms/step - loss: 27.6375 - mse: 27.6375 - mae: 4.1849 - mape: 0.9188\n",
            "Epoch 44/70\n",
            "240/240 [==============================] - 0s 1ms/step - loss: 27.4797 - mse: 27.4797 - mae: 4.1790 - mape: 0.9175\n",
            "Epoch 45/70\n",
            "240/240 [==============================] - 0s 2ms/step - loss: 27.4555 - mse: 27.4555 - mae: 4.1691 - mape: 0.9153\n",
            "Epoch 46/70\n",
            "240/240 [==============================] - 0s 2ms/step - loss: 27.3625 - mse: 27.3625 - mae: 4.1518 - mape: 0.9116\n",
            "Epoch 47/70\n",
            "240/240 [==============================] - 0s 2ms/step - loss: 27.5411 - mse: 27.5411 - mae: 4.1676 - mape: 0.9150\n",
            "Epoch 48/70\n",
            "240/240 [==============================] - 0s 2ms/step - loss: 27.2750 - mse: 27.2750 - mae: 4.1549 - mape: 0.9124\n",
            "Epoch 49/70\n",
            "240/240 [==============================] - 0s 2ms/step - loss: 27.2217 - mse: 27.2217 - mae: 4.1445 - mape: 0.9101\n",
            "Epoch 50/70\n",
            "240/240 [==============================] - 0s 2ms/step - loss: 27.2943 - mse: 27.2943 - mae: 4.1583 - mape: 0.9132\n",
            "Epoch 51/70\n",
            "240/240 [==============================] - 0s 2ms/step - loss: 26.9348 - mse: 26.9348 - mae: 4.1262 - mape: 0.9061\n",
            "Epoch 52/70\n",
            "240/240 [==============================] - 0s 2ms/step - loss: 27.4070 - mse: 27.4070 - mae: 4.1584 - mape: 0.9133\n",
            "Epoch 53/70\n",
            "240/240 [==============================] - 0s 2ms/step - loss: 26.9250 - mse: 26.9250 - mae: 4.1263 - mape: 0.9063\n",
            "Epoch 54/70\n",
            "240/240 [==============================] - 0s 2ms/step - loss: 27.0673 - mse: 27.0673 - mae: 4.1389 - mape: 0.9090\n",
            "Epoch 55/70\n",
            "240/240 [==============================] - 0s 2ms/step - loss: 27.5501 - mse: 27.5501 - mae: 4.1814 - mape: 0.9185\n",
            "Epoch 56/70\n",
            "240/240 [==============================] - 0s 2ms/step - loss: 27.1095 - mse: 27.1095 - mae: 4.1427 - mape: 0.9099\n",
            "Epoch 57/70\n",
            "240/240 [==============================] - 0s 2ms/step - loss: 26.7166 - mse: 26.7166 - mae: 4.1058 - mape: 0.9019\n",
            "Epoch 58/70\n",
            "240/240 [==============================] - 0s 2ms/step - loss: 26.7684 - mse: 26.7684 - mae: 4.1084 - mape: 0.9023\n",
            "Epoch 59/70\n",
            "240/240 [==============================] - 0s 2ms/step - loss: 27.8965 - mse: 27.8965 - mae: 4.1886 - mape: 0.9200\n",
            "Epoch 60/70\n",
            "240/240 [==============================] - 0s 2ms/step - loss: 27.8279 - mse: 27.8279 - mae: 4.1902 - mape: 0.9207\n",
            "Epoch 61/70\n",
            "240/240 [==============================] - 0s 2ms/step - loss: 27.1381 - mse: 27.1381 - mae: 4.1475 - mape: 0.9111\n",
            "Epoch 62/70\n",
            "240/240 [==============================] - 0s 2ms/step - loss: 26.7724 - mse: 26.7724 - mae: 4.1193 - mape: 0.9049\n",
            "Epoch 63/70\n",
            "240/240 [==============================] - 0s 2ms/step - loss: 26.8534 - mse: 26.8534 - mae: 4.1081 - mape: 0.9024\n",
            "Epoch 64/70\n",
            "240/240 [==============================] - 0s 2ms/step - loss: 26.8528 - mse: 26.8528 - mae: 4.1220 - mape: 0.9053\n",
            "Epoch 65/70\n",
            "240/240 [==============================] - 0s 2ms/step - loss: 26.6641 - mse: 26.6641 - mae: 4.1143 - mape: 0.9038\n",
            "Epoch 66/70\n",
            "240/240 [==============================] - 0s 2ms/step - loss: 26.7076 - mse: 26.7076 - mae: 4.1099 - mape: 0.9028\n",
            "Epoch 67/70\n",
            "240/240 [==============================] - 0s 2ms/step - loss: 27.0403 - mse: 27.0403 - mae: 4.1323 - mape: 0.9077\n",
            "Epoch 68/70\n",
            "240/240 [==============================] - 0s 2ms/step - loss: 26.5560 - mse: 26.5560 - mae: 4.0965 - mape: 0.9000\n",
            "Epoch 69/70\n",
            "240/240 [==============================] - 0s 2ms/step - loss: 27.0104 - mse: 27.0104 - mae: 4.1500 - mape: 0.9116\n",
            "Epoch 70/70\n",
            "240/240 [==============================] - 0s 2ms/step - loss: 27.3487 - mse: 27.3487 - mae: 4.1652 - mape: 0.9150\n"
          ]
        },
        {
          "output_type": "execute_result",
          "data": {
            "text/plain": [
              "<keras.callbacks.History at 0x7f7b8dc12990>"
            ]
          },
          "metadata": {},
          "execution_count": 9
        }
      ]
    },
    {
      "cell_type": "markdown",
      "source": [
        "## Part 4 - Model Evaluation Based On The Test Set"
      ],
      "metadata": {
        "id": "wuCCvJ0h4yWq"
      }
    },
    {
      "cell_type": "markdown",
      "source": [
        "### Predicting The Test set Results"
      ],
      "metadata": {
        "id": "74TDO4k53OuG"
      }
    },
    {
      "cell_type": "code",
      "source": [
        "y_pred = ann.predict(X_test)\n",
        "np.set_printoptions(precision=2)\n",
        "print(\"Real Values vs Predicted Values\")\n",
        "print(np.concatenate((y_test.reshape(len(y_test),1), y_pred.reshape(len(y_pred), 1)), 1))"
      ],
      "metadata": {
        "colab": {
          "base_uri": "https://localhost:8080/"
        },
        "id": "1pqXeNW83U3S",
        "outputId": "7445e609-10fe-491b-b52c-d84199b1f1f4"
      },
      "execution_count": null,
      "outputs": [
        {
          "output_type": "stream",
          "name": "stdout",
          "text": [
            "Real Values vs Predicted Values\n",
            "[[431.23 430.5 ]\n",
            " [460.01 461.91]\n",
            " [461.14 465.57]\n",
            " ...\n",
            " [473.26 472.5 ]\n",
            " [438.   439.87]\n",
            " [463.28 458.85]]\n"
          ]
        }
      ]
    },
    {
      "cell_type": "markdown",
      "source": [
        "### Model Evaluation"
      ],
      "metadata": {
        "id": "k3edhc8m3-60"
      }
    },
    {
      "cell_type": "code",
      "source": [
        "from sklearn.metrics import r2_score\n",
        "R = r2_score(y_test, y_pred)\n",
        "print(\"R2 score is : \\n\", R)"
      ],
      "metadata": {
        "colab": {
          "base_uri": "https://localhost:8080/"
        },
        "id": "C6vOPay34DYG",
        "outputId": "7c35c5fd-0ddc-4c98-a9c6-781dea929b2b"
      },
      "execution_count": null,
      "outputs": [
        {
          "output_type": "stream",
          "name": "stdout",
          "text": [
            "R2 score is : \n",
            " 0.9147362634534019\n"
          ]
        }
      ]
    }
  ]
}